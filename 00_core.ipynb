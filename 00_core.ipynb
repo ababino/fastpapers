{
 "cells": [
  {
   "cell_type": "code",
   "execution_count": null,
   "metadata": {},
   "outputs": [],
   "source": [
    "# default_exp core"
   ]
  },
  {
   "cell_type": "markdown",
   "metadata": {},
   "source": [
    "# Core\n",
    "\n",
    "> Basic functions and classes usful to reproduce research papers."
   ]
  },
  {
   "cell_type": "code",
   "execution_count": null,
   "metadata": {},
   "outputs": [],
   "source": [
    "#hide\n",
    "from nbdev.showdoc import *"
   ]
  },
  {
   "cell_type": "code",
   "execution_count": null,
   "metadata": {},
   "outputs": [],
   "source": [
    "#export\n",
    "import gc\n",
    "import requests\n",
    "from fastcore.all import *\n",
    "from fastai.basics import *\n",
    "from fastai.data.all import *\n",
    "from fastai.vision.all import *\n",
    "from fastai.vision.gan import *\n",
    "from fastai.callback.hook import *\n",
    "import pandas as pd\n",
    "import seaborn as sns"
   ]
  },
  {
   "cell_type": "markdown",
   "metadata": {},
   "source": [
    "## Explode Functions\n",
    "\n",
    "These are function that are useful for debugging."
   ]
  },
  {
   "cell_type": "code",
   "execution_count": null,
   "metadata": {},
   "outputs": [],
   "source": [
    "#exports\n",
    "def explode_types(o):\n",
    "    '''Like fastcore explode_types, but only shows __name__ of type.'''\n",
    "    if not is_listy(o): return type(o).__name__\n",
    "    return {type(o).__name__: [explode_types(o_) for o_ in o]}"
   ]
  },
  {
   "cell_type": "code",
   "execution_count": null,
   "metadata": {},
   "outputs": [],
   "source": [
    "#exports\n",
    "def explode_lens(o):\n",
    "    if is_listy(o):\n",
    "        if all(is_listy(o_) for o_ in o):\n",
    "            return [explode_lens(o_) for o_ in o]\n",
    "        else: return len(o)"
   ]
  },
  {
   "cell_type": "code",
   "execution_count": null,
   "metadata": {},
   "outputs": [],
   "source": [
    "test_eq(explode_lens([[1,4], [[5,6,7], [1]]]), [2, [3, 1]])"
   ]
  },
  {
   "cell_type": "code",
   "execution_count": null,
   "metadata": {},
   "outputs": [],
   "source": [
    "#exports\n",
    "def explode_shapes(o):\n",
    "    if not is_listy(o): return tuple(bind(getattr, arg0, 'shape')(o))\n",
    "    return [explode_shapes(o_) for o_ in o]"
   ]
  },
  {
   "cell_type": "code",
   "execution_count": null,
   "metadata": {},
   "outputs": [],
   "source": [
    "test_eq(explode_shapes([tensor([1,4]), [tensor([[4,5],[7,8]]), tensor([6])]]), [(2,), [(2,2), (1,)]])"
   ]
  },
  {
   "cell_type": "code",
   "execution_count": null,
   "metadata": {},
   "outputs": [],
   "source": [
    "#exports\n",
    "def explode_ranges(o):\n",
    "    if not is_listy(o): return (float(o.min()), float(o.max()))\n",
    "    return [explode_ranges(o_) for o_ in o]"
   ]
  },
  {
   "cell_type": "code",
   "execution_count": null,
   "metadata": {},
   "outputs": [
    {
     "data": {
      "text/plain": [
       "[(1.0, 4.0), [(4.0, 8.0), (6.0, 6.0)]]"
      ]
     },
     "execution_count": null,
     "metadata": {},
     "output_type": "execute_result"
    }
   ],
   "source": [
    "explode_ranges([tensor([1,4]), [tensor([[4,5],[7,8]]), tensor([6])]])"
   ]
  },
  {
   "cell_type": "code",
   "execution_count": null,
   "metadata": {},
   "outputs": [],
   "source": [
    "#exports\n",
    "def pexpt(o): print(explode_types(o))"
   ]
  },
  {
   "cell_type": "code",
   "execution_count": null,
   "metadata": {},
   "outputs": [],
   "source": [
    "#exports\n",
    "def pexpl(o): print(explode_lens(o))"
   ]
  },
  {
   "cell_type": "code",
   "execution_count": null,
   "metadata": {},
   "outputs": [],
   "source": [
    "#exports\n",
    "def pexps(o): print(explode_shapes(o))"
   ]
  },
  {
   "cell_type": "code",
   "execution_count": null,
   "metadata": {},
   "outputs": [],
   "source": [
    "#export\n",
    "def get_cudas():\n",
    "    '''Returns the number of tensors in cuda device.'''\n",
    "    n = 0\n",
    "    for o in gc.get_objects():\n",
    "        o = maybe_attr(o, 'data')\n",
    "        if torch.is_tensor(o):\n",
    "            if o.is_cuda: n += 1\n",
    "    return n"
   ]
  },
  {
   "cell_type": "code",
   "execution_count": null,
   "metadata": {},
   "outputs": [],
   "source": [
    "#export\n",
    "def receptive_fields(model, nf, imsize, bs=64):\n",
    "    '''returns the size of the receptive field for each feature output.'''\n",
    "    # init parameters\n",
    "    for p in model.named_parameters():\n",
    "        if 'weight' in p[0]:\n",
    "            n = p[1].shape[1] if len(p[1].shape)==4 else 1\n",
    "            nn.init.constant_(p[1], 1./n)\n",
    "        elif 'bias' in p[0]:\n",
    "            nn.init.constant_(p[1], 0)\n",
    "    x = dummy_eval(model, imsize).detach()\n",
    "    outsz = x.shape[-2:]\n",
    "\n",
    "    with torch.no_grad():\n",
    "        rfs = []\n",
    "        model.eval()\n",
    "        model = model.cuda()\n",
    "        t = torch.eye(imsize[0]**2).reshape(imsize[0]*imsize[1], 1, imsize[0], imsize[1])\n",
    "        for i,batch in enumerate(chunked(t, bs)):\n",
    "            new = torch.cat(batch, dim=0).unsqueeze(1)\n",
    "            new = torch.cat([new for _ in range(nf)], dim=1).cuda()\n",
    "            rfs.append(model(new).cpu())\n",
    "    rfs = torch.cat(rfs, dim=0).squeeze()\n",
    "    rfs = rfs.reshape(imsize[0], imsize[1], outsz[0], outsz[1])\n",
    "    rfs = (rfs>0.99).sum(axis=(0,1)).float().sqrt()\n",
    "    return rfs"
   ]
  },
  {
   "cell_type": "markdown",
   "metadata": {},
   "source": [
    "## N Images Classes\n",
    "\n",
    "These are classes to handle many images to many images generation"
   ]
  },
  {
   "cell_type": "code",
   "execution_count": null,
   "metadata": {},
   "outputs": [],
   "source": [
    "#export \n",
    "class ImageNTuple(fastuple):\n",
    "\n",
    "    @classmethod\n",
    "    def create(cls, fns): return cls(tuple(PILImage.create(f) for f in tuplify(fns)))\n",
    "    \n",
    "    def show(self, ctx=None, **kwargs): \n",
    "        all_tensors = all([isinstance(t, Tensor) for t in self])\n",
    "        same_shape = all([self[0].shape==t.shape for t in self[1:]])\n",
    "        if not all_tensors or not same_shape: return ctx\n",
    "        line = self[0].new_zeros(self[0].shape[0], self[0].shape[1], 10)\n",
    "        imgs = sum(L(zip(self, [line]*len(self))).map(list),[])[:-1]\n",
    "        return show_image(torch.cat(imgs, dim=2), ctx=ctx, **kwargs)\n",
    "    \n",
    "    def requires_grad_(self, value):\n",
    "        for item in self: item.requires_grad_(value)\n",
    "        return self\n",
    "\n",
    "    @property\n",
    "    def shape(self):\n",
    "        all_tensors = all([isinstance(t, Tensor) for t in self])\n",
    "        same_shape = all([self[0].shape==t.shape for t in self[1:]])\n",
    "        if not all_tensors or not same_shape: raise AttributeError\n",
    "        return self[0].shape\n",
    "    #def detach(self):\n",
    "    #    for item in self: item.detach()\n",
    "    #    return self"
   ]
  },
  {
   "cell_type": "code",
   "execution_count": null,
   "metadata": {},
   "outputs": [],
   "source": [
    "path = untar_data(URLs.PETS)\n",
    "files = get_image_files(path/\"images\")"
   ]
  },
  {
   "cell_type": "markdown",
   "metadata": {},
   "source": [
    "ImageNTuple will only show tha images if all of them are of same size, and if all of them are tensors."
   ]
  },
  {
   "cell_type": "code",
   "execution_count": null,
   "metadata": {},
   "outputs": [
    {
     "data": {
      "text/plain": [
       "{'ImageNTuple': ['PILImage', 'PILImage']}"
      ]
     },
     "execution_count": null,
     "metadata": {},
     "output_type": "execute_result"
    }
   ],
   "source": [
    "imt2 = ImageNTuple.create((files[0], files[1]))\n",
    "explode_types(imt2)"
   ]
  },
  {
   "cell_type": "code",
   "execution_count": null,
   "metadata": {},
   "outputs": [
    {
     "data": {
      "image/png": "[encoded data removed]",
      "text/plain": [
       "<Figure size 360x360 with 1 Axes>"
      ]
     },
     "metadata": {
      "needs_background": "light"
     },
     "output_type": "display_data"
    }
   ],
   "source": [
    "imt2 = ImageNTuple.create((files[0], files[1]))\n",
    "imt2 = Resize(224)(imt2)\n",
    "imt2 = ToTensor()(imt2)\n",
    "imt2.show();"
   ]
  },
  {
   "cell_type": "code",
   "execution_count": null,
   "metadata": {},
   "outputs": [
    {
     "data": {
      "image/png": "[encoded data removed]",
      "text/plain": [
       "<Figure size 360x360 with 1 Axes>"
      ]
     },
     "metadata": {
      "needs_background": "light"
     },
     "output_type": "display_data"
    }
   ],
   "source": [
    "imt3 = ImageNTuple.create((files[0], files[1], files[2]))\n",
    "imt3 = Resize(224)(imt3)\n",
    "imt3 = ToTensor()(imt3)\n",
    "ax = imt3.show()"
   ]
  },
  {
   "cell_type": "code",
   "execution_count": null,
   "metadata": {},
   "outputs": [],
   "source": [
    "test_eq(len(imt2), 2)\n",
    "test_eq(len(imt3), 3)"
   ]
  },
  {
   "cell_type": "code",
   "execution_count": null,
   "metadata": {},
   "outputs": [],
   "source": [
    "# export\n",
    "def ImageTupleBlock(): \n",
    "    '''Like fastai tutoria siemese transform, but uses ImageNTuple.'''\n",
    "    return TransformBlock(type_tfms=ImageNTuple.create, batch_tfms=[IntToFloatTensor])"
   ]
  },
  {
   "cell_type": "markdown",
   "metadata": {},
   "source": [
    "## Conditional Generator"
   ]
  },
  {
   "cell_type": "code",
   "execution_count": null,
   "metadata": {},
   "outputs": [],
   "source": [
    "#export\n",
    "class ConditionalGenerator(nn.Module):\n",
    "    '''Wraper around a GAN generator that returns the generated image and the input.'''\n",
    "    def __init__(self, gen):\n",
    "        super().__init__()\n",
    "        self.gen = gen\n",
    "    def forward(self, x):\n",
    "        if is_listy(x):\n",
    "            input = torch.cat(x, axis=1)\n",
    "        else:\n",
    "            input = x\n",
    "        return ImageNTuple(x, TensorImage(self.gen(input)))"
   ]
  },
  {
   "cell_type": "markdown",
   "metadata": {},
   "source": [
    "Test that the ConditionalGenerator can generate images from one image"
   ]
  },
  {
   "cell_type": "code",
   "execution_count": null,
   "metadata": {},
   "outputs": [],
   "source": [
    "gen_base = basic_critic(32, 3)\n",
    "gen_base = nn.Sequential(*list(gen_base.children())[:-2])\n",
    "unet = DynamicUnet(gen_base, 3, (32, 32))\n",
    "gen = ConditionalGenerator(unet)"
   ]
  },
  {
   "cell_type": "code",
   "execution_count": null,
   "metadata": {},
   "outputs": [],
   "source": [
    "out = gen(torch.rand(1, 3, 32, 32))"
   ]
  },
  {
   "cell_type": "code",
   "execution_count": null,
   "metadata": {},
   "outputs": [],
   "source": [
    "test_eq(explode_shapes(out), [(1, 3, 32, 32), (1, 3, 32, 32)])"
   ]
  },
  {
   "cell_type": "code",
   "execution_count": null,
   "metadata": {},
   "outputs": [],
   "source": [
    "test_eq(type(out), ImageNTuple)"
   ]
  },
  {
   "cell_type": "markdown",
   "metadata": {},
   "source": [
    "Test that the ConditionalGenerator can generate an image from two images"
   ]
  },
  {
   "cell_type": "code",
   "execution_count": null,
   "metadata": {},
   "outputs": [],
   "source": [
    "gen_base = basic_critic(32, 6)\n",
    "gen_base = nn.Sequential(*list(gen_base.children())[:-2])\n",
    "unet = DynamicUnet(gen_base, 3, (32, 32))\n",
    "gen = ConditionalGenerator(unet)"
   ]
  },
  {
   "cell_type": "code",
   "execution_count": null,
   "metadata": {},
   "outputs": [],
   "source": [
    "dl = DataLoader(dataset=([imt2]), bs=1, after_item=IntToFloatTensor())\n",
    "b = first(dl)\n",
    "out = gen(b)"
   ]
  },
  {
   "cell_type": "code",
   "execution_count": null,
   "metadata": {},
   "outputs": [],
   "source": [
    "test_eq(type(out), ImageNTuple)\n",
    "test_eq(len(out), 3)"
   ]
  },
  {
   "cell_type": "markdown",
   "metadata": {},
   "source": [
    "## Siamese Critic"
   ]
  },
  {
   "cell_type": "code",
   "execution_count": null,
   "metadata": {},
   "outputs": [],
   "source": [
    "#export\n",
    "class SiameseCritic(Module):\n",
    "    def __init__(self, critic): self.critic = critic\n",
    "    def forward(self, x): return self.critic(torch.cat(x, dim=1))"
   ]
  },
  {
   "cell_type": "code",
   "execution_count": null,
   "metadata": {},
   "outputs": [],
   "source": [
    "critic = gan_critic(n_channels=6, nf=64)\n",
    "scritic = SiameseCritic(critic)"
   ]
  },
  {
   "cell_type": "markdown",
   "metadata": {},
   "source": [
    "## GAN Metrics\n",
    "\n",
    "These are Metrics that work with GANLearner"
   ]
  },
  {
   "cell_type": "code",
   "execution_count": null,
   "metadata": {},
   "outputs": [],
   "source": [
    "#export\n",
    "class GenMetric(AvgMetric):\n",
    "    def accumulate(self, learn):\n",
    "        if learn.model.gen_mode:\n",
    "            bs = find_bs(learn.yb)\n",
    "            self.total += to_detach(self.func(learn, learn.pred, *learn.yb))*bs\n",
    "            self.count += bs"
   ]
  },
  {
   "cell_type": "code",
   "execution_count": null,
   "metadata": {},
   "outputs": [],
   "source": [
    "#export\n",
    "class CriticMetric(AvgMetric):\n",
    "    def accumulate(self, learn):\n",
    "        if not learn.model.gen_mode:\n",
    "            bs = find_bs(learn.yb)\n",
    "            self.total += to_detach(self.func(learn, learn.pred, *learn.yb))*bs\n",
    "            self.count += bs"
   ]
  },
  {
   "cell_type": "code",
   "execution_count": null,
   "metadata": {},
   "outputs": [],
   "source": [
    "#export\n",
    "def l1(learn, output, target): return nn.L1Loss()(output[-1], target[-1])\n",
    "l1 = GenMetric(l1)"
   ]
  },
  {
   "cell_type": "markdown",
   "metadata": {},
   "source": [
    "## ProgressImage Callback\n",
    "This callback shows a sample of the generator after every epoch. It is a good idea to keep a human in the loop."
   ]
  },
  {
   "cell_type": "code",
   "execution_count": null,
   "metadata": {},
   "outputs": [],
   "source": [
    "#export\n",
    "class ProgressImage(Callback):\n",
    "    run_after = GANTrainer\n",
    "    @delegates(show_image)\n",
    "    def __init__(self, out_widget, save_img=False, folder='pred_imgs', conditional=False, **kwargs):\n",
    "        self.out_widget = out_widget\n",
    "        self.kwargs = kwargs\n",
    "        self.save_img = save_img\n",
    "        self.folder = folder\n",
    "        self.conditional = conditional\n",
    "        if self.conditional:\n",
    "            self.title = 'Input-Real-Fake'\n",
    "        else:\n",
    "            self.title = 'Generated'\n",
    "        Path(self.folder).mkdir(exist_ok=True)\n",
    "        self.ax = None\n",
    "    def before_batch(self):\n",
    "        if self.gan_trainer.gen_mode and self.training: \n",
    "            self.last_gen_target = self.learn.to_detach(self.learn.yb)#[0][-1]\n",
    "    def after_train(self):\n",
    "        \"Show a sample image.\"\n",
    "        if not hasattr(self.learn.gan_trainer, 'last_gen'): return\n",
    "        b = self.learn.gan_trainer.last_gen\n",
    "        gt = self.last_gen_target\n",
    "        #gt, b = self.learn.dls.decode((gt, b))\n",
    "        b = self.learn.dls.decode((b,))\n",
    "        gt = self.learn.dls.decode(gt)\n",
    "        gt, imt = batch_to_samples((gt, b), max_n=1)[0]\n",
    "        gt, imt = gt[0][-1], imt[0]\n",
    "        if self.conditional:\n",
    "            imt = ToTensor()(ImageNTuple.create((*imt[:-1], gt, imt[-1])))\n",
    "        self.out_widget.clear_output(wait=True)\n",
    "        with self.out_widget:\n",
    "            if self.ax: self.ax.clear()\n",
    "            self.ax = imt.show(ax=self.ax, title=self.title, **self.kwargs)\n",
    "            display(self.ax.figure)\n",
    "        if self.save_img: self.ax.figure.savefig(self.path / f'{self.folder}/pred_epoch_{self.epoch}.png')\n",
    "    def after_fit(self):\n",
    "        if self.ax: plt.close(self.ax.figure)"
   ]
  },
  {
   "cell_type": "markdown",
   "metadata": {},
   "source": [
    "## Show Results for TupleNImage"
   ]
  },
  {
   "cell_type": "code",
   "execution_count": null,
   "metadata": {},
   "outputs": [],
   "source": [
    "#export\n",
    "@typedispatch\n",
    "def show_results(x:TensorImage, y:ImageNTuple, samples, outs, ctxs=None, max_n=6, nrows=None, ncols=2, figsize=None, **kwargs):\n",
    "    max_n = min(x.shape[0], max_n)\n",
    "    if max_n<ncols: ncols = max_n\n",
    "    if figsize is None: figsize = (ncols*6, max_n//ncols * 3)\n",
    "    if ctxs is None: ctxs = get_grid(min(x[0].shape[0], max_n), nrows=None, ncols=ncols, figsize=figsize)\n",
    "    for i,ctx in enumerate(ctxs): \n",
    "        title = 'Input-Real-Fake'\n",
    "        ImageNTuple(x[i], y[1][i], outs[i][0][1]).show(ctx=ctx, title=title)"
   ]
  },
  {
   "cell_type": "markdown",
   "metadata": {},
   "source": [
    "## Tuple in Ys Learner Fix\n",
    "\n",
    "Learner.show_results and Learner.predict thowgh an error if the ys are tuples. Let's fix that"
   ]
  },
  {
   "cell_type": "code",
   "execution_count": null,
   "metadata": {},
   "outputs": [],
   "source": [
    "#export\n",
    "@patch\n",
    "def show_results(self:GANLearner, ds_idx=1, dl=None, max_n=9, shuffle=True, **kwargs):\n",
    "    if dl is None: dl = self.dls[ds_idx].new(shuffle=shuffle)\n",
    "    b = dl.one_batch()\n",
    "    _,_,preds = self.get_preds(dl=[b], with_decoded=True)\n",
    "    preds = (preds,)\n",
    "    self.dls.show_results(b, preds, max_n=max_n, **kwargs)"
   ]
  },
  {
   "cell_type": "code",
   "execution_count": null,
   "metadata": {},
   "outputs": [],
   "source": [
    "#exort\n",
    "@patch\n",
    "def predict(self:GANLearner, item, rm_type_tfms=None, with_input=False):\n",
    "    dl = self.dls.test_dl([item], rm_type_tfms=rm_type_tfms, num_workers=0)\n",
    "    inp,preds,_,dec_preds = self.get_preds(dl=dl, with_input=True, with_decoded=True)\n",
    "    i = getattr(self.dls, 'n_inp', -1)\n",
    "    inp = (inp,) if i==1 else tuplify(inp)\n",
    "    n_out = len(self.dls.tls) - i\n",
    "    dec_preds = (dec_preds,) if n_out==1 else tuplify(dec_preds)\n",
    "    dec = self.dls.decode_batch(inp + dec_preds)[0]\n",
    "    dec_inp,dec_targ = map(detuplify, [dec[:i],dec[i:]])\n",
    "    res = dec_targ,dec_preds[0],preds[0]\n",
    "    if with_input: res = (dec_inp,) + res\n",
    "    return res"
   ]
  },
  {
   "cell_type": "markdown",
   "metadata": {},
   "source": [
    "## Datasets"
   ]
  },
  {
   "cell_type": "code",
   "execution_count": null,
   "metadata": {},
   "outputs": [],
   "source": [
    "#export\n",
    "URLs.FACADES = 'http://efrosgans.eecs.berkeley.edu/pix2pix/datasets/facades.tar.gz'\n",
    "URLs.FACADES_BASE = 'http://cmp.felk.cvut.cz/~tylecr1/facade/CMP_facade_DB_base.zip'\n",
    "URLs.FACADES_EXTENDED = 'http://cmp.felk.cvut.cz/~tylecr1/facade/CMP_facade_DB_extended.zip'\n",
    "URLs.CELEBA = '0B7EVK8r0v71pZjFTYXZWM3FlRnM'"
   ]
  },
  {
   "cell_type": "code",
   "execution_count": null,
   "metadata": {},
   "outputs": [],
   "source": [
    "#export\n",
    "def download_file_from_google_drive(file_id, destination, folder_name=None):\n",
    "    if folder_name:\n",
    "        dst = Config()['data'] / folder_name\n",
    "        if dst.exists():\n",
    "            return dst\n",
    "    else:\n",
    "        dst = Config()['data']\n",
    "    arch_dst = Config()['archive'] / destination\n",
    "    if not arch_dst.exists(): \n",
    "        URL = \"https://docs.google.com/uc?export=download\"\n",
    "        session = requests.Session()\n",
    "        response = session.get(URL, params = { 'id' : file_id }, stream = True)\n",
    "        token = first([(k,v) for k,v in response.cookies.items() if k.startswith('download_warning')])[1]\n",
    "        if token:\n",
    "            params = { 'id' : file_id, 'confirm' : token }\n",
    "            response = session.get(URL, params = params, stream = True)\n",
    "        save_response_content(response, Config()['archive'] / destination)\n",
    "    file_extract(Config()['archive'] / destination, Config()['data'])\n",
    "    return dst\n",
    "\n",
    "def save_response_content(response, destination):\n",
    "    CHUNK_SIZE = 32768\n",
    "\n",
    "    with open(destination, \"wb\") as f:\n",
    "        for chunk in response.iter_content(CHUNK_SIZE):\n",
    "            if chunk: # filter out keep-alive new chunks\n",
    "                f.write(chunk)"
   ]
  },
  {
   "cell_type": "markdown",
   "metadata": {},
   "source": [
    "Original Inveptions Weights for FID by mseitzer"
   ]
  },
  {
   "cell_type": "code",
   "execution_count": null,
   "metadata": {},
   "outputs": [],
   "source": [
    "#export\n",
    "FID_WEIGHTS_URL = 'https://github.com/mseitzer/pytorch-fid/releases/download/fid_weights/pt_inception-2015-12-05-6726825d.pth'"
   ]
  },
  {
   "cell_type": "markdown",
   "metadata": {},
   "source": [
    "### Renormalization stats\n",
    "from -1,1 to `imagenet_stats`"
   ]
  },
  {
   "cell_type": "code",
   "execution_count": null,
   "metadata": {},
   "outputs": [],
   "source": [
    "#exports\n",
    "renorm_stats = (2*torch.tensor(imagenet_stats[0])-1).tolist(), (2*torch.tensor(imagenet_stats[1])).tolist()"
   ]
  },
  {
   "cell_type": "code",
   "execution_count": null,
   "metadata": {},
   "outputs": [],
   "source": [
    "x = TensorImage(torch.rand(1, 3, 32, 32))\n",
    "xn = Normalize(0.5, 0.5)(x)\n",
    "xin = Normalize.from_stats(*imagenet_stats, cuda=False)(x)\n",
    "xn2in = Normalize.from_stats(*renorm_stats, cuda=False)(xn)\n",
    "test(x, xn, nequals)\n",
    "test(x, xin, nequals)\n",
    "test(xin, xn, nequals)\n",
    "test(xin, xn2in, all_equal)"
   ]
  },
  {
   "cell_type": "markdown",
   "metadata": {},
   "source": [
    "## DataLoaders"
   ]
  },
  {
   "cell_type": "code",
   "execution_count": null,
   "metadata": {},
   "outputs": [],
   "source": [
    "#export\n",
    "@patch\n",
    "def is_relative_to(self:Path, *other):\n",
    "    \"\"\"Return True if the path is relative to another path or False.\n",
    "    \"\"\"\n",
    "    try:\n",
    "        self.relative_to(*other)\n",
    "        return True\n",
    "    except ValueError:\n",
    "        return False"
   ]
  },
  {
   "cell_type": "code",
   "execution_count": null,
   "metadata": {},
   "outputs": [],
   "source": [
    "# export\n",
    "def _parent_idxs(items, name):\n",
    "    def _inner(items, name): return mask2idxs(Path(o).parent.name == name for o in items)\n",
    "    return [i for n in L(name) for i in _inner(items,n)]\n",
    "\n",
    "@delegates(get_image_files)\n",
    "def get_tuple_files_by_stem(paths, folders=None, **kwargs):\n",
    "    if not is_listy(paths): paths = [paths]\n",
    "    files = []\n",
    "    for path in paths: files.extend(get_image_files(path, folders=folders))\n",
    "    out = L(groupby(files, attrgetter('stem')).values())\n",
    "    return out\n",
    "\n",
    "def ParentsSplitter(train_name='train', valid_name='valid'):\n",
    "    \"Split `items` from the grand parent folder names (`train_name` and `valid_name`).\"\n",
    "    def _inner(o):\n",
    "        tindex = _parent_idxs(L(o).itemgot(-1), train_name)\n",
    "        vindex = _parent_idxs(L(o).itemgot(-1), valid_name)\n",
    "        return tindex, vindex\n",
    "    return _inner\n",
    "\n",
    "class CGANDataLoaders(DataLoaders):\n",
    "    \"Basic wrapper around several `DataLoader`s with factory methods for CGAN problems\"\n",
    "    @classmethod\n",
    "    @delegates(DataLoaders.from_dblock)\n",
    "    def from_paths(cls, input_path, target_path, train='train', valid='valid', valid_pct=None, seed=None, vocab=None, item_tfms=None,\n",
    "                  batch_tfms=None, n_inp=1, **kwargs):\n",
    "        \"Create from imagenet style dataset in `path` with `train` and `valid` subfolders (or provide `valid_pct`)\"\n",
    "        splitter = ParentsSplitter(train_name=train, valid_name=valid) if valid_pct is None else RandomSplitter(valid_pct, seed=seed)\n",
    "        get_items = get_tuple_files_by_stem if valid_pct else partial(get_tuple_files_by_stem, folders=[train, valid])\n",
    "        get_x=lambda o: L(o).filter(Self.is_relative_to(input_path))#[0]\n",
    "        #if n_inp == 1: get_x = lambda x: get_x(x)[0]\n",
    "        input_block = ImageBlock if n_inp==1 else ImageTupleBlock\n",
    "        dblock = DataBlock(blocks=(ImageTupleBlock, ImageTupleBlock),\n",
    "                           get_items=get_items,\n",
    "                           splitter=splitter,\n",
    "                           get_x=get_x,#lambda o: L(o).filter(lambda x: x.is_relative_to(input_path))[0],\n",
    "                           #get_x=lambda o: L(o).filter(lambda x: x.parent.parent==input_path)[0],\n",
    "                           item_tfms=item_tfms,\n",
    "                           batch_tfms=batch_tfms)\n",
    "        return cls.from_dblock(dblock, [input_path, target_path], **kwargs)\n",
    "\n",
    "    @classmethod\n",
    "    @delegates(DataLoaders.from_dblock)\n",
    "    def from_path_ext(cls, path, folders, input_ext='.png', output_ext='.jpg', valid_pct=0.2, seed=None, item_tfms=None,\n",
    "                      batch_tfms=None, **kwargs):\n",
    "        \"Create from list of `fnames` in `path`s with `label_func`\"\n",
    "        get_itmes = partial(get_tuple_files_by_stem, folders=folders)\n",
    "        files = get_itmes(path)\n",
    "        dblock = DataBlock(blocks=(ImageBlock, ImageTupleBlock),\n",
    "                           get_items=get_itmes,\n",
    "                           splitter=RandomSplitter(valid_pct, seed=seed),\n",
    "                           get_x=lambda o: L(o).filter(lambda x: x.suffix==input_ext)[0],\n",
    "                           get_y=lambda o: L(o).sorted(key=lambda x: {input_ext:0, output_ext:1}[x.suffix]),\n",
    "                           item_tfms=item_tfms,\n",
    "                           batch_tfms=batch_tfms)\n",
    "        return cls.from_dblock(dblock, path, **kwargs)"
   ]
  },
  {
   "cell_type": "code",
   "execution_count": null,
   "metadata": {},
   "outputs": [],
   "source": [
    "#slow\n",
    "path_base = untar_data(URLs.FACADES_BASE)\n",
    "item_tfms=Resize(286, ResizeMethod.Squish, resamples=(Image.NEAREST, Image.NEAREST)),\n",
    "batch_tfms=[Normalize.from_stats(0.5*torch.ones(3), 0.5*torch.ones(3)), \n",
    "            *aug_transforms(size=256, mult=0.0, max_lighting=0, p_lighting=0, mode='nearest')]\n",
    "\n",
    "dls = CGANDataLoaders.from_path_ext(path_base.parent, ['base', 'extended'], item_tfms=item_tfms, batch_tfms=batch_tfms, bs=1)"
   ]
  },
  {
   "cell_type": "code",
   "execution_count": null,
   "metadata": {},
   "outputs": [
    {
     "data": {
      "image/png": "[encoded data removed]",
      "text/plain": [
       "<Figure size 216x216 with 1 Axes>"
      ]
     },
     "metadata": {
      "needs_background": "light"
     },
     "output_type": "display_data"
    }
   ],
   "source": [
    "#slow\n",
    "dls.show_batch()"
   ]
  },
  {
   "cell_type": "markdown",
   "metadata": {},
   "source": [
    "## Gather Logs Callback\n",
    "\n",
    "To Do\n",
    "- ~put y='loss' as first argument in `plot_metric`.~\n",
    "- ~add a name of the object property and save after fit~\n",
    "- add option to run multiple experiments or not -> this should be another callback"
   ]
  },
  {
   "cell_type": "code",
   "execution_count": null,
   "metadata": {},
   "outputs": [],
   "source": [
    "# #export\n",
    "# def basic_nested_repr(flds=None):\n",
    "#     if isinstance(flds, str): flds = re.split(', *', flds)\n",
    "#     flds = list(flds or [])\n",
    "#     def _f(self):\n",
    "#         sig = ', '.join(f'{o}={maybe_attr(nested_attr(self,o), \"__name__\")}' for o in flds)\n",
    "#         return f'{self.__class__.__name__}({sig})'\n",
    "#     return _f"
   ]
  },
  {
   "cell_type": "code",
   "execution_count": null,
   "metadata": {},
   "outputs": [],
   "source": [
    "#export\n",
    "def basic_name(flds=None):\n",
    "    if isinstance(flds, str): flds = re.split(', *', flds)\n",
    "    flds = list(flds or [])\n",
    "    def _f(self):\n",
    "        return '_'.join(f'{maybe_attr(nested_attr(self,o), \"__name__\")}' for o in flds)\n",
    "    return _f"
   ]
  },
  {
   "cell_type": "code",
   "execution_count": null,
   "metadata": {},
   "outputs": [],
   "source": [
    "#export\n",
    "class GatherLogs(Callback):\n",
    "    run_after=Recorder\n",
    "    def __init__(self, experiments='logs', save_after_fit=True): \n",
    "        self.experiments = experiments\n",
    "        self.file = Path(self.experiments + '.pkl')\n",
    "        self.save_after_fit = save_after_fit\n",
    "        self.experiment = None\n",
    "        self.df = None\n",
    "        self.experiment_count = defaultdict(int)\n",
    "    \n",
    "    def before_fit(self): \n",
    "        self.values = L()\n",
    "        if not self.experiment: self.set_experiment_name()\n",
    "    \n",
    "    def after_epoch(self): self.values.append(self.recorder.log)\n",
    "    \n",
    "    def set_experiment_name(self, name=None):\n",
    "        self.experiment = ifnone(name, basic_name('model.__class__,loss_func.__class__')(self))\n",
    "        self.experiment_count[name] += 1\n",
    "        \n",
    "    def after_fit(self):\n",
    "        df = pd.DataFrame(self.values, columns=self.recorder.metric_names)\n",
    "        df['experiment'] = self.experiment\n",
    "        df['experiment_count'] = self.experiment_count[self.experiment]\n",
    "        df['time'] = pd.to_timedelta(df['time'].map(lambda x: '00:'+x if x.count(':')==1 else x))\n",
    "        df['time'] = df['time'].map(methodcaller('total_seconds'))\n",
    "        df = self.to_tidy(df)\n",
    "        self.df = pd.concat([self.df, df]).reset_index(drop=True)\n",
    "        if self.save_after_fit: self.save()\n",
    "    \n",
    "    def to_tidy(self, df):\n",
    "        '''Creates tidy dataframe from metrics dataframe.'''\n",
    "        df = df.set_index(['epoch', 'time', 'experiment', 'experiment_count'])\n",
    "        df = df.stack().reset_index(level=4)\n",
    "        df['stage'] = df['level_4'].str.split('_').map(itemgetter(0))\n",
    "        df['metric'] = df['level_4'].str.split('_', n=1).map(itemgetter(1))\n",
    "        df = df.drop('level_4', axis=1)\n",
    "        df = df.set_index(['stage', 'metric'], append=True)\n",
    "        df[0] = df[0].astype(float)\n",
    "        df = df.unstack()\n",
    "        df.columns = df.columns.get_level_values(1)\n",
    "        df.columns.name = None\n",
    "        return df.reset_index()\n",
    "\n",
    "    @delegates(sns.relplot)\n",
    "    def plot_metric(self, y='loss', x='epoch' , col='stage', hue='experiment', kind='line', **kwargs):\n",
    "        return sns.relplot(data=self.df, x=x, y=y, col=col, hue=hue, kind=kind)\n",
    "    @delegates(sns.barplot)\n",
    "    def plot_time(self, x='experiment', y='time', **kwargs):\n",
    "        return sns.barplot(data=self.df[self.df['stage']=='train'], x=x, y=y, **kwargs)\n",
    "    \n",
    "    def save(self):\n",
    "        self.learn = None\n",
    "        with self.file.open('bw') as f: pickle.dump(self, f)"
   ]
  },
  {
   "cell_type": "code",
   "execution_count": null,
   "metadata": {},
   "outputs": [],
   "source": [
    "#slow\n",
    "path = untar_data(URLs.PETS)\n",
    "fnames = get_image_files(path/\"images\")\n",
    "pat = r'^(.*)_\\d+.jpg$'\n",
    "dls = ImageDataLoaders.from_name_re(path, fnames, pat, item_tfms=Resize(224))"
   ]
  },
  {
   "cell_type": "code",
   "execution_count": null,
   "metadata": {},
   "outputs": [],
   "source": [
    "#slow\n",
    "learn = cnn_learner(dls, resnet34, loss_func=CrossEntropyLossFlat(), config=cnn_config(ps=0.25))"
   ]
  },
  {
   "cell_type": "code",
   "execution_count": null,
   "metadata": {},
   "outputs": [
    {
     "data": {
      "text/html": [
       "<table border=\"1\" class=\"dataframe\">\n",
       "  <thead>\n",
       "    <tr style=\"text-align: left;\">\n",
       "      <th>epoch</th>\n",
       "      <th>train_loss</th>\n",
       "      <th>valid_loss</th>\n",
       "      <th>time</th>\n",
       "    </tr>\n",
       "  </thead>\n",
       "  <tbody>\n",
       "    <tr>\n",
       "      <td>0</td>\n",
       "      <td>0.568469</td>\n",
       "      <td>0.292175</td>\n",
       "      <td>00:13</td>\n",
       "    </tr>\n",
       "  </tbody>\n",
       "</table>"
      ],
      "text/plain": [
       "<IPython.core.display.HTML object>"
      ]
     },
     "metadata": {},
     "output_type": "display_data"
    }
   ],
   "source": [
    "#slow\n",
    "gl = GatherLogs()\n",
    "with learn.added_cbs(gl):\n",
    "    #gl.set_experiment_name('test1')\n",
    "    learn.fit(1)"
   ]
  },
  {
   "cell_type": "code",
   "execution_count": null,
   "metadata": {},
   "outputs": [
    {
     "data": {
      "text/html": [
       "<div>\n",
       "<style scoped>\n",
       "    .dataframe tbody tr th:only-of-type {\n",
       "        vertical-align: middle;\n",
       "    }\n",
       "\n",
       "    .dataframe tbody tr th {\n",
       "        vertical-align: top;\n",
       "    }\n",
       "\n",
       "    .dataframe thead th {\n",
       "        text-align: right;\n",
       "    }\n",
       "</style>\n",
       "<table border=\"1\" class=\"dataframe\">\n",
       "  <thead>\n",
       "    <tr style=\"text-align: right;\">\n",
       "      <th></th>\n",
       "      <th>epoch</th>\n",
       "      <th>time</th>\n",
       "      <th>experiment</th>\n",
       "      <th>experiment_count</th>\n",
       "      <th>stage</th>\n",
       "      <th>loss</th>\n",
       "    </tr>\n",
       "  </thead>\n",
       "  <tbody>\n",
       "    <tr>\n",
       "      <th>0</th>\n",
       "      <td>0</td>\n",
       "      <td>13.0</td>\n",
       "      <td>Sequential_CrossEntropyLossFlat</td>\n",
       "      <td>0</td>\n",
       "      <td>train</td>\n",
       "      <td>0.568469</td>\n",
       "    </tr>\n",
       "    <tr>\n",
       "      <th>1</th>\n",
       "      <td>0</td>\n",
       "      <td>13.0</td>\n",
       "      <td>Sequential_CrossEntropyLossFlat</td>\n",
       "      <td>0</td>\n",
       "      <td>valid</td>\n",
       "      <td>0.292175</td>\n",
       "    </tr>\n",
       "  </tbody>\n",
       "</table>\n",
       "</div>"
      ],
      "text/plain": [
       "   epoch  time                       experiment  experiment_count  stage  \\\n",
       "0      0  13.0  Sequential_CrossEntropyLossFlat                 0  train   \n",
       "1      0  13.0  Sequential_CrossEntropyLossFlat                 0  valid   \n",
       "\n",
       "       loss  \n",
       "0  0.568469  \n",
       "1  0.292175  "
      ]
     },
     "execution_count": null,
     "metadata": {},
     "output_type": "execute_result"
    }
   ],
   "source": [
    "#slow\n",
    "gl.df"
   ]
  },
  {
   "cell_type": "code",
   "execution_count": null,
   "metadata": {},
   "outputs": [
    {
     "data": {
      "text/html": [
       "<table border=\"1\" class=\"dataframe\">\n",
       "  <thead>\n",
       "    <tr style=\"text-align: left;\">\n",
       "      <th>epoch</th>\n",
       "      <th>train_loss</th>\n",
       "      <th>valid_loss</th>\n",
       "      <th>time</th>\n",
       "    </tr>\n",
       "  </thead>\n",
       "  <tbody>\n",
       "    <tr>\n",
       "      <td>0</td>\n",
       "      <td>0.234974</td>\n",
       "      <td>0.279831</td>\n",
       "      <td>00:12</td>\n",
       "    </tr>\n",
       "    <tr>\n",
       "      <td>1</td>\n",
       "      <td>0.170925</td>\n",
       "      <td>0.275164</td>\n",
       "      <td>00:12</td>\n",
       "    </tr>\n",
       "  </tbody>\n",
       "</table>"
      ],
      "text/plain": [
       "<IPython.core.display.HTML object>"
      ]
     },
     "metadata": {},
     "output_type": "display_data"
    }
   ],
   "source": [
    "#slow\n",
    "with learn.added_cbs(gl):\n",
    "    gl.set_experiment_name('test2')\n",
    "    learn.fit(2)"
   ]
  },
  {
   "cell_type": "code",
   "execution_count": null,
   "metadata": {},
   "outputs": [
    {
     "data": {
      "text/html": [
       "<div>\n",
       "<style scoped>\n",
       "    .dataframe tbody tr th:only-of-type {\n",
       "        vertical-align: middle;\n",
       "    }\n",
       "\n",
       "    .dataframe tbody tr th {\n",
       "        vertical-align: top;\n",
       "    }\n",
       "\n",
       "    .dataframe thead th {\n",
       "        text-align: right;\n",
       "    }\n",
       "</style>\n",
       "<table border=\"1\" class=\"dataframe\">\n",
       "  <thead>\n",
       "    <tr style=\"text-align: right;\">\n",
       "      <th></th>\n",
       "      <th>epoch</th>\n",
       "      <th>time</th>\n",
       "      <th>experiment</th>\n",
       "      <th>experiment_count</th>\n",
       "      <th>stage</th>\n",
       "      <th>loss</th>\n",
       "    </tr>\n",
       "  </thead>\n",
       "  <tbody>\n",
       "    <tr>\n",
       "      <th>0</th>\n",
       "      <td>0</td>\n",
       "      <td>13.0</td>\n",
       "      <td>Sequential_CrossEntropyLossFlat</td>\n",
       "      <td>0</td>\n",
       "      <td>train</td>\n",
       "      <td>0.568469</td>\n",
       "    </tr>\n",
       "    <tr>\n",
       "      <th>1</th>\n",
       "      <td>0</td>\n",
       "      <td>13.0</td>\n",
       "      <td>Sequential_CrossEntropyLossFlat</td>\n",
       "      <td>0</td>\n",
       "      <td>valid</td>\n",
       "      <td>0.292175</td>\n",
       "    </tr>\n",
       "    <tr>\n",
       "      <th>2</th>\n",
       "      <td>0</td>\n",
       "      <td>12.0</td>\n",
       "      <td>test2</td>\n",
       "      <td>1</td>\n",
       "      <td>train</td>\n",
       "      <td>0.234974</td>\n",
       "    </tr>\n",
       "    <tr>\n",
       "      <th>3</th>\n",
       "      <td>0</td>\n",
       "      <td>12.0</td>\n",
       "      <td>test2</td>\n",
       "      <td>1</td>\n",
       "      <td>valid</td>\n",
       "      <td>0.279831</td>\n",
       "    </tr>\n",
       "    <tr>\n",
       "      <th>4</th>\n",
       "      <td>1</td>\n",
       "      <td>12.0</td>\n",
       "      <td>test2</td>\n",
       "      <td>1</td>\n",
       "      <td>train</td>\n",
       "      <td>0.170925</td>\n",
       "    </tr>\n",
       "    <tr>\n",
       "      <th>5</th>\n",
       "      <td>1</td>\n",
       "      <td>12.0</td>\n",
       "      <td>test2</td>\n",
       "      <td>1</td>\n",
       "      <td>valid</td>\n",
       "      <td>0.275164</td>\n",
       "    </tr>\n",
       "  </tbody>\n",
       "</table>\n",
       "</div>"
      ],
      "text/plain": [
       "   epoch  time                       experiment  experiment_count  stage  \\\n",
       "0      0  13.0  Sequential_CrossEntropyLossFlat                 0  train   \n",
       "1      0  13.0  Sequential_CrossEntropyLossFlat                 0  valid   \n",
       "2      0  12.0                            test2                 1  train   \n",
       "3      0  12.0                            test2                 1  valid   \n",
       "4      1  12.0                            test2                 1  train   \n",
       "5      1  12.0                            test2                 1  valid   \n",
       "\n",
       "       loss  \n",
       "0  0.568469  \n",
       "1  0.292175  \n",
       "2  0.234974  \n",
       "3  0.279831  \n",
       "4  0.170925  \n",
       "5  0.275164  "
      ]
     },
     "execution_count": null,
     "metadata": {},
     "output_type": "execute_result"
    }
   ],
   "source": [
    "#slow\n",
    "gl.df"
   ]
  },
  {
   "cell_type": "code",
   "execution_count": null,
   "metadata": {},
   "outputs": [
    {
     "data": {
      "image/png": "[encoded data removed]",
      "text/plain": [
       "<Figure size 920.625x360 with 2 Axes>"
      ]
     },
     "metadata": {
      "needs_background": "light"
     },
     "output_type": "display_data"
    }
   ],
   "source": [
    "#slow\n",
    "gl.plot_metric();"
   ]
  },
  {
   "cell_type": "code",
   "execution_count": null,
   "metadata": {},
   "outputs": [
    {
     "data": {
      "image/png": "[encoded data removed]",
      "text/plain": [
       "<Figure size 432x288 with 1 Axes>"
      ]
     },
     "metadata": {
      "needs_background": "light"
     },
     "output_type": "display_data"
    }
   ],
   "source": [
    "#slow\n",
    "gl.plot_time();"
   ]
  },
  {
   "cell_type": "markdown",
   "metadata": {},
   "source": [
    "## RunNBatches Callback"
   ]
  },
  {
   "cell_type": "code",
   "execution_count": null,
   "metadata": {},
   "outputs": [],
   "source": [
    "#export\n",
    "class RunNBatches(Callback):\n",
    "    run_after=Recorder\n",
    "    def __init__(self, n=2): self.n = n\n",
    "    def before_train(self): self.n_batch = 0\n",
    "    def before_validate(self): self.n_batch = 0\n",
    "    def after_batch(self): \n",
    "        self.n_batch += 1\n",
    "        if self.n_batch>self.n:\n",
    "            if self.training:\n",
    "                raise CancelTrainException\n",
    "            else:\n",
    "                raise CancelValidException\n",
    "    def after_cancel_train(self): self.recorder.cancel_train = False\n",
    "    def after_cancel_validate(self): self.recorder.cancel_valid = False"
   ]
  },
  {
   "cell_type": "code",
   "execution_count": null,
   "metadata": {},
   "outputs": [
    {
     "name": "stdout",
     "output_type": "stream",
     "text": [
      "Converted 00_core.ipynb.\n",
      "Converted 01_isola2017image.ipynb.\n",
      "Converted 02_heusel2017gans.ipynb.\n",
      "Converted 03_johnson2016perceptual.ipynb.\n",
      "Converted 04_carion2020end.ipynb.\n",
      "Converted index.ipynb.\n"
     ]
    }
   ],
   "source": [
    "#hide\n",
    "from nbdev.export import *\n",
    "notebook2script()"
   ]
  }
 ],
 "metadata": {
  "kernelspec": {
   "display_name": "Python 3",
   "language": "python",
   "name": "python3"
  }
 },
 "nbformat": 4,
 "nbformat_minor": 2
}
